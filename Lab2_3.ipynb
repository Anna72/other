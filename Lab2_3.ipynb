{
  "nbformat": 4,
  "nbformat_minor": 0,
  "metadata": {
    "colab": {
      "name": "Lab2-3.ipynb",
      "provenance": [],
      "collapsed_sections": [],
      "include_colab_link": true
    },
    "kernelspec": {
      "name": "python3",
      "display_name": "Python 3"
    }
  },
  "cells": [
    {
      "cell_type": "markdown",
      "metadata": {
        "id": "view-in-github",
        "colab_type": "text"
      },
      "source": [
        "<a href=\"https://colab.research.google.com/github/Anna72/other/blob/master/Lab2_3.ipynb\" target=\"_parent\"><img src=\"https://colab.research.google.com/assets/colab-badge.svg\" alt=\"Open In Colab\"/></a>"
      ]
    },
    {
      "cell_type": "markdown",
      "metadata": {
        "id": "dUyHbWnwtCvt",
        "colab_type": "text"
      },
      "source": [
        "Лабораторная работа 2. Проверки статистических гипотез. \n",
        "1. Задайте параметры закона. Задайте объем выборки n (четное). Постройте выборку объема n из закона P с заданными параметрами. \n",
        "2. Сгенерируйсте выборку объема n из U[−δ,δ] с очень малым δ > 0 и сложите ее с исходной (покоординатно). "
      ]
    },
    {
      "cell_type": "code",
      "metadata": {
        "id": "Ys_FhaFpoWoz",
        "colab_type": "code",
        "colab": {
          "base_uri": "https://localhost:8080/",
          "height": 1000
        },
        "outputId": "23c32264-7a01-4e22-d64d-3b10c184b64e"
      },
      "source": [
        "from scipy.stats import uniform\n",
        "import matplotlib.pyplot as plt\n",
        "import numpy as np\n",
        "a = 0  # left border\n",
        "b = 1  # right border\n",
        "sigm = 0.2\n",
        "n = 1000   # объем выборки \n",
        "ru = np.random.uniform(a,b,n)  # выборка\n",
        "vr = np.copy(ru)\n",
        "vr.sort()\n",
        "rus = np.random.uniform(-sigm,sigm,n)\n",
        "new_r = ru + rus\n",
        "new_vr = np.copy(new_r)\n",
        "new_vr.sort()\n",
        "new_vr"
      ],
      "execution_count": null,
      "outputs": [
        {
          "output_type": "execute_result",
          "data": {
            "text/plain": [
              "array([-1.76467559e-01, -1.68245676e-01, -1.62874664e-01, -1.52414604e-01,\n",
              "       -1.52171317e-01, -1.44422480e-01, -1.42790713e-01, -1.35704239e-01,\n",
              "       -1.31441191e-01, -1.28350963e-01, -1.23735816e-01, -1.18542390e-01,\n",
              "       -1.17688104e-01, -1.17032710e-01, -1.12947908e-01, -1.08025313e-01,\n",
              "       -1.01489036e-01, -9.78515328e-02, -8.82563823e-02, -8.55855426e-02,\n",
              "       -8.37405381e-02, -7.89871960e-02, -7.40686295e-02, -7.32433956e-02,\n",
              "       -7.04582347e-02, -6.75897699e-02, -6.50809406e-02, -6.46434587e-02,\n",
              "       -6.41032037e-02, -6.38858014e-02, -6.18351892e-02, -6.01100035e-02,\n",
              "       -5.80304745e-02, -5.57036727e-02, -4.84342358e-02, -4.68107459e-02,\n",
              "       -4.44040504e-02, -4.18113513e-02, -4.14816333e-02, -3.77759169e-02,\n",
              "       -3.37050774e-02, -3.34162058e-02, -3.14721212e-02, -2.33117376e-02,\n",
              "       -2.29829130e-02, -1.94485403e-02, -1.85894561e-02, -1.81841892e-02,\n",
              "       -1.66534944e-02, -1.64192305e-02, -1.45516307e-02, -1.19786443e-02,\n",
              "       -1.13282871e-02, -8.89576532e-03, -8.74160880e-03, -7.80075957e-03,\n",
              "       -6.27017102e-03,  3.53442272e-04,  7.09623675e-04,  4.25407639e-03,\n",
              "        5.46787169e-03,  9.12363780e-03,  9.36807073e-03,  1.30523421e-02,\n",
              "        1.37037747e-02,  1.42588717e-02,  1.86783579e-02,  2.19873164e-02,\n",
              "        2.20929638e-02,  2.30981969e-02,  2.51001358e-02,  2.61055559e-02,\n",
              "        2.71001077e-02,  2.98837909e-02,  3.42745693e-02,  3.60020147e-02,\n",
              "        3.70606434e-02,  3.89556859e-02,  3.93956141e-02,  4.57903341e-02,\n",
              "        4.63408338e-02,  4.81965659e-02,  4.96889502e-02,  5.24416848e-02,\n",
              "        5.33507693e-02,  5.39580905e-02,  5.46590706e-02,  5.53643156e-02,\n",
              "        5.57501728e-02,  5.74571908e-02,  5.95806682e-02,  6.03186369e-02,\n",
              "        6.07961209e-02,  6.25600613e-02,  6.55604334e-02,  6.57234183e-02,\n",
              "        6.65017482e-02,  7.02744201e-02,  7.05145768e-02,  7.06051161e-02,\n",
              "        7.24121147e-02,  7.51918346e-02,  7.68371577e-02,  7.73214396e-02,\n",
              "        8.05506272e-02,  8.17915559e-02,  8.25940994e-02,  8.40055355e-02,\n",
              "        8.60318453e-02,  8.68702892e-02,  8.78187008e-02,  8.85978513e-02,\n",
              "        9.12380990e-02,  9.40151439e-02,  9.92187429e-02,  9.96436701e-02,\n",
              "        1.03151887e-01,  1.03931541e-01,  1.04802175e-01,  1.06201012e-01,\n",
              "        1.06407108e-01,  1.08288820e-01,  1.08589133e-01,  1.12385756e-01,\n",
              "        1.12681728e-01,  1.13385299e-01,  1.14040393e-01,  1.14222076e-01,\n",
              "        1.16694397e-01,  1.16917502e-01,  1.17631436e-01,  1.17635419e-01,\n",
              "        1.18207835e-01,  1.18337518e-01,  1.18992111e-01,  1.20585344e-01,\n",
              "        1.22815178e-01,  1.26259207e-01,  1.27431150e-01,  1.29178608e-01,\n",
              "        1.29414137e-01,  1.29419189e-01,  1.32534970e-01,  1.34548914e-01,\n",
              "        1.34752747e-01,  1.34768400e-01,  1.37949326e-01,  1.39273189e-01,\n",
              "        1.39851386e-01,  1.40554851e-01,  1.42099545e-01,  1.43555721e-01,\n",
              "        1.45604266e-01,  1.48647805e-01,  1.48847194e-01,  1.49444750e-01,\n",
              "        1.52028413e-01,  1.55946653e-01,  1.58695159e-01,  1.59831172e-01,\n",
              "        1.60457205e-01,  1.61916097e-01,  1.61999316e-01,  1.63019472e-01,\n",
              "        1.63553363e-01,  1.66882378e-01,  1.67612661e-01,  1.69417963e-01,\n",
              "        1.69957913e-01,  1.70863634e-01,  1.71336234e-01,  1.72113023e-01,\n",
              "        1.73372577e-01,  1.74419642e-01,  1.74875615e-01,  1.76088546e-01,\n",
              "        1.76122575e-01,  1.78464314e-01,  1.81098449e-01,  1.81200784e-01,\n",
              "        1.81423000e-01,  1.81454988e-01,  1.83557676e-01,  1.84116866e-01,\n",
              "        1.84921718e-01,  1.85696091e-01,  1.86845488e-01,  1.87149158e-01,\n",
              "        1.87737472e-01,  1.88857161e-01,  1.88996124e-01,  1.89185886e-01,\n",
              "        1.89474198e-01,  1.90139202e-01,  1.91380818e-01,  1.92231256e-01,\n",
              "        1.92439904e-01,  1.94181866e-01,  1.96400676e-01,  1.98962339e-01,\n",
              "        1.99025035e-01,  2.00484342e-01,  2.01431116e-01,  2.02876555e-01,\n",
              "        2.06194992e-01,  2.06642355e-01,  2.07833000e-01,  2.09010346e-01,\n",
              "        2.09831528e-01,  2.10064506e-01,  2.10380176e-01,  2.11394586e-01,\n",
              "        2.11924210e-01,  2.11994895e-01,  2.12523634e-01,  2.13430535e-01,\n",
              "        2.17088493e-01,  2.18232817e-01,  2.18781857e-01,  2.22279693e-01,\n",
              "        2.22905300e-01,  2.23302030e-01,  2.23642859e-01,  2.25570151e-01,\n",
              "        2.27183716e-01,  2.29209134e-01,  2.29313944e-01,  2.30047000e-01,\n",
              "        2.31138065e-01,  2.31430619e-01,  2.31989928e-01,  2.32192988e-01,\n",
              "        2.32241376e-01,  2.32550011e-01,  2.33958644e-01,  2.35851312e-01,\n",
              "        2.36257003e-01,  2.38459106e-01,  2.38975467e-01,  2.40188681e-01,\n",
              "        2.41997304e-01,  2.42964309e-01,  2.43703571e-01,  2.44933375e-01,\n",
              "        2.45127365e-01,  2.48614149e-01,  2.49752403e-01,  2.50024803e-01,\n",
              "        2.50937789e-01,  2.51222705e-01,  2.53431065e-01,  2.55728181e-01,\n",
              "        2.55855990e-01,  2.57130444e-01,  2.57845290e-01,  2.58876765e-01,\n",
              "        2.63539826e-01,  2.65075115e-01,  2.66057456e-01,  2.66610294e-01,\n",
              "        2.67087114e-01,  2.67325492e-01,  2.67703924e-01,  2.68084633e-01,\n",
              "        2.68462437e-01,  2.69567755e-01,  2.71328699e-01,  2.74819042e-01,\n",
              "        2.76623818e-01,  2.76936264e-01,  2.77053082e-01,  2.81366274e-01,\n",
              "        2.82581467e-01,  2.83615633e-01,  2.85137932e-01,  2.86474368e-01,\n",
              "        2.88470952e-01,  2.90205379e-01,  2.92071397e-01,  2.92213632e-01,\n",
              "        2.94176916e-01,  2.94405116e-01,  2.96007604e-01,  2.96465178e-01,\n",
              "        2.99361259e-01,  3.01242847e-01,  3.01824942e-01,  3.02936382e-01,\n",
              "        3.03459442e-01,  3.10222985e-01,  3.12769382e-01,  3.16172775e-01,\n",
              "        3.18154688e-01,  3.18716552e-01,  3.19213995e-01,  3.19222104e-01,\n",
              "        3.20694940e-01,  3.21626231e-01,  3.26686691e-01,  3.28149088e-01,\n",
              "        3.28156253e-01,  3.28258521e-01,  3.29314603e-01,  3.32059110e-01,\n",
              "        3.32613355e-01,  3.33982055e-01,  3.34402935e-01,  3.35982213e-01,\n",
              "        3.38297550e-01,  3.40507407e-01,  3.40659828e-01,  3.41524020e-01,\n",
              "        3.42008054e-01,  3.45492918e-01,  3.47571169e-01,  3.47600093e-01,\n",
              "        3.48365455e-01,  3.50672711e-01,  3.51704551e-01,  3.52459422e-01,\n",
              "        3.53264102e-01,  3.53990736e-01,  3.55849082e-01,  3.57083474e-01,\n",
              "        3.58537193e-01,  3.58943923e-01,  3.59439686e-01,  3.59956762e-01,\n",
              "        3.60110218e-01,  3.60668617e-01,  3.61093843e-01,  3.63147325e-01,\n",
              "        3.63691775e-01,  3.65544954e-01,  3.66747060e-01,  3.68633269e-01,\n",
              "        3.68711038e-01,  3.68906792e-01,  3.72898008e-01,  3.74108158e-01,\n",
              "        3.74618207e-01,  3.76097543e-01,  3.76467728e-01,  3.79025488e-01,\n",
              "        3.80472875e-01,  3.82502729e-01,  3.82735149e-01,  3.83105857e-01,\n",
              "        3.83322282e-01,  3.84097516e-01,  3.84595870e-01,  3.85643990e-01,\n",
              "        3.86495524e-01,  3.89380441e-01,  3.90446485e-01,  3.90768379e-01,\n",
              "        3.91698107e-01,  3.92327315e-01,  3.94780040e-01,  3.95856721e-01,\n",
              "        3.97405130e-01,  3.98575878e-01,  3.99046004e-01,  3.99973516e-01,\n",
              "        4.00707164e-01,  4.01321541e-01,  4.01421883e-01,  4.01501704e-01,\n",
              "        4.05452527e-01,  4.06021304e-01,  4.08801380e-01,  4.09524632e-01,\n",
              "        4.11584326e-01,  4.12193998e-01,  4.14384712e-01,  4.15713548e-01,\n",
              "        4.18506289e-01,  4.18557464e-01,  4.18628844e-01,  4.19601652e-01,\n",
              "        4.19758515e-01,  4.21004646e-01,  4.21063991e-01,  4.22516949e-01,\n",
              "        4.23066970e-01,  4.24172936e-01,  4.24677930e-01,  4.25511364e-01,\n",
              "        4.25574896e-01,  4.25938404e-01,  4.28352354e-01,  4.28456749e-01,\n",
              "        4.29239240e-01,  4.29274434e-01,  4.30825350e-01,  4.31571418e-01,\n",
              "        4.32338173e-01,  4.32471599e-01,  4.34507318e-01,  4.35115003e-01,\n",
              "        4.35527567e-01,  4.35620881e-01,  4.36024068e-01,  4.37533532e-01,\n",
              "        4.38124744e-01,  4.38301431e-01,  4.40722639e-01,  4.41658190e-01,\n",
              "        4.42015556e-01,  4.42369568e-01,  4.42950767e-01,  4.43471480e-01,\n",
              "        4.43869561e-01,  4.44176077e-01,  4.45778118e-01,  4.46172283e-01,\n",
              "        4.46429190e-01,  4.46828414e-01,  4.48030579e-01,  4.48997033e-01,\n",
              "        4.50145881e-01,  4.51440841e-01,  4.53326022e-01,  4.54292906e-01,\n",
              "        4.56383590e-01,  4.59001907e-01,  4.59073441e-01,  4.61265047e-01,\n",
              "        4.61413213e-01,  4.61596977e-01,  4.63615004e-01,  4.63763271e-01,\n",
              "        4.64724506e-01,  4.65829950e-01,  4.66226072e-01,  4.68139283e-01,\n",
              "        4.69316432e-01,  4.69418551e-01,  4.70769394e-01,  4.71228245e-01,\n",
              "        4.72294122e-01,  4.73041453e-01,  4.73114555e-01,  4.75815426e-01,\n",
              "        4.75914693e-01,  4.77191970e-01,  4.77286221e-01,  4.77863042e-01,\n",
              "        4.78284069e-01,  4.78570145e-01,  4.78570939e-01,  4.79158901e-01,\n",
              "        4.79863722e-01,  4.80624560e-01,  4.82905819e-01,  4.84269103e-01,\n",
              "        4.84285991e-01,  4.86363587e-01,  4.88600399e-01,  4.89275281e-01,\n",
              "        4.89614035e-01,  4.89725797e-01,  4.90190690e-01,  4.91426156e-01,\n",
              "        4.92421868e-01,  4.93274982e-01,  4.93862573e-01,  4.93977177e-01,\n",
              "        4.96331952e-01,  5.00218102e-01,  5.00452260e-01,  5.00759730e-01,\n",
              "        5.04414541e-01,  5.05574157e-01,  5.07007766e-01,  5.07535683e-01,\n",
              "        5.07736296e-01,  5.08050834e-01,  5.08459647e-01,  5.08949993e-01,\n",
              "        5.10055719e-01,  5.10845846e-01,  5.11183023e-01,  5.13730892e-01,\n",
              "        5.14070955e-01,  5.14923210e-01,  5.15308771e-01,  5.17170656e-01,\n",
              "        5.17855109e-01,  5.19269544e-01,  5.19722459e-01,  5.19938528e-01,\n",
              "        5.19981253e-01,  5.20294760e-01,  5.20484911e-01,  5.20529029e-01,\n",
              "        5.20928457e-01,  5.21484137e-01,  5.22507055e-01,  5.28074749e-01,\n",
              "        5.31438339e-01,  5.33178380e-01,  5.34352215e-01,  5.34855464e-01,\n",
              "        5.35296488e-01,  5.35862030e-01,  5.37858104e-01,  5.39460507e-01,\n",
              "        5.39672722e-01,  5.39841839e-01,  5.42056917e-01,  5.44571588e-01,\n",
              "        5.45152723e-01,  5.45838256e-01,  5.46050742e-01,  5.46317494e-01,\n",
              "        5.49635254e-01,  5.49805562e-01,  5.50834469e-01,  5.51723865e-01,\n",
              "        5.52440847e-01,  5.54275158e-01,  5.54445844e-01,  5.56568141e-01,\n",
              "        5.57720072e-01,  5.58625347e-01,  5.58802675e-01,  5.59500751e-01,\n",
              "        5.62825058e-01,  5.65106222e-01,  5.65405391e-01,  5.66377844e-01,\n",
              "        5.66635711e-01,  5.66844759e-01,  5.68863496e-01,  5.69064326e-01,\n",
              "        5.69273259e-01,  5.69663500e-01,  5.70026464e-01,  5.71574440e-01,\n",
              "        5.72234807e-01,  5.72384261e-01,  5.72454084e-01,  5.72748156e-01,\n",
              "        5.73346249e-01,  5.74129271e-01,  5.74688514e-01,  5.74749184e-01,\n",
              "        5.75493283e-01,  5.78042115e-01,  5.78098687e-01,  5.80449953e-01,\n",
              "        5.81321635e-01,  5.81675512e-01,  5.82417441e-01,  5.82527512e-01,\n",
              "        5.82999939e-01,  5.83258259e-01,  5.84185426e-01,  5.84474391e-01,\n",
              "        5.85160224e-01,  5.86228452e-01,  5.87291500e-01,  5.90042035e-01,\n",
              "        5.91570029e-01,  5.93025294e-01,  5.94413774e-01,  5.96007816e-01,\n",
              "        5.97981423e-01,  5.98272650e-01,  5.99804045e-01,  6.02267502e-01,\n",
              "        6.03121870e-01,  6.03313382e-01,  6.04354027e-01,  6.05988696e-01,\n",
              "        6.06116616e-01,  6.06611530e-01,  6.08116291e-01,  6.09350795e-01,\n",
              "        6.09644143e-01,  6.10391362e-01,  6.12008045e-01,  6.12296030e-01,\n",
              "        6.13774227e-01,  6.14980174e-01,  6.15175476e-01,  6.15237101e-01,\n",
              "        6.16628822e-01,  6.17465405e-01,  6.17874282e-01,  6.18056289e-01,\n",
              "        6.18472248e-01,  6.18776854e-01,  6.18831272e-01,  6.18988980e-01,\n",
              "        6.20638749e-01,  6.21261769e-01,  6.23937782e-01,  6.24351352e-01,\n",
              "        6.24963433e-01,  6.25227963e-01,  6.26689324e-01,  6.26766494e-01,\n",
              "        6.26879133e-01,  6.28100644e-01,  6.30012338e-01,  6.30091884e-01,\n",
              "        6.30693314e-01,  6.31390452e-01,  6.32394751e-01,  6.32587044e-01,\n",
              "        6.34539731e-01,  6.34924293e-01,  6.35322969e-01,  6.35509571e-01,\n",
              "        6.35560919e-01,  6.36744950e-01,  6.37000463e-01,  6.37795996e-01,\n",
              "        6.38635295e-01,  6.39197154e-01,  6.40278482e-01,  6.40601127e-01,\n",
              "        6.41150254e-01,  6.41171544e-01,  6.41645161e-01,  6.41785548e-01,\n",
              "        6.42365380e-01,  6.42683543e-01,  6.43524057e-01,  6.44167439e-01,\n",
              "        6.46259010e-01,  6.49819019e-01,  6.50318017e-01,  6.50571146e-01,\n",
              "        6.51680467e-01,  6.51767312e-01,  6.52445382e-01,  6.53624623e-01,\n",
              "        6.55099694e-01,  6.56641739e-01,  6.57607076e-01,  6.58221355e-01,\n",
              "        6.58566898e-01,  6.59442000e-01,  6.60354315e-01,  6.61846027e-01,\n",
              "        6.62201971e-01,  6.62672903e-01,  6.62769636e-01,  6.65971199e-01,\n",
              "        6.67198959e-01,  6.69449605e-01,  6.71239602e-01,  6.71572712e-01,\n",
              "        6.71611980e-01,  6.72307869e-01,  6.72923739e-01,  6.73019615e-01,\n",
              "        6.74323783e-01,  6.74547888e-01,  6.74971616e-01,  6.75338381e-01,\n",
              "        6.75919815e-01,  6.76132807e-01,  6.78164137e-01,  6.79312134e-01,\n",
              "        6.79607227e-01,  6.80429363e-01,  6.80694906e-01,  6.81561082e-01,\n",
              "        6.81649623e-01,  6.82489664e-01,  6.82591657e-01,  6.83537703e-01,\n",
              "        6.83548678e-01,  6.85526009e-01,  6.86119298e-01,  6.87000131e-01,\n",
              "        6.89021839e-01,  6.89789393e-01,  6.90720387e-01,  6.92719575e-01,\n",
              "        6.94110156e-01,  6.95487090e-01,  6.96170030e-01,  6.96800250e-01,\n",
              "        6.97527163e-01,  6.98158510e-01,  6.98388548e-01,  6.99680915e-01,\n",
              "        7.01058226e-01,  7.01542499e-01,  7.02310213e-01,  7.02433413e-01,\n",
              "        7.03344605e-01,  7.03837807e-01,  7.04015989e-01,  7.04384826e-01,\n",
              "        7.04759787e-01,  7.06003519e-01,  7.06110823e-01,  7.07417891e-01,\n",
              "        7.09158250e-01,  7.11989279e-01,  7.11998957e-01,  7.12374283e-01,\n",
              "        7.13479222e-01,  7.14164711e-01,  7.14798180e-01,  7.14972573e-01,\n",
              "        7.16826767e-01,  7.17354695e-01,  7.18558375e-01,  7.18856279e-01,\n",
              "        7.19084431e-01,  7.21322746e-01,  7.21444309e-01,  7.22290144e-01,\n",
              "        7.22435711e-01,  7.24993410e-01,  7.25221305e-01,  7.26024907e-01,\n",
              "        7.28861855e-01,  7.29441104e-01,  7.30178591e-01,  7.30426769e-01,\n",
              "        7.32429691e-01,  7.33234157e-01,  7.35234141e-01,  7.35806500e-01,\n",
              "        7.36835646e-01,  7.37193487e-01,  7.38691615e-01,  7.39671395e-01,\n",
              "        7.41921832e-01,  7.47059570e-01,  7.47825502e-01,  7.48633600e-01,\n",
              "        7.49789489e-01,  7.50913084e-01,  7.51786217e-01,  7.51796529e-01,\n",
              "        7.53189528e-01,  7.54321169e-01,  7.55269076e-01,  7.57808135e-01,\n",
              "        7.58661058e-01,  7.60277382e-01,  7.62932640e-01,  7.63088831e-01,\n",
              "        7.64323671e-01,  7.64432478e-01,  7.65270224e-01,  7.65930212e-01,\n",
              "        7.66427104e-01,  7.66546634e-01,  7.66942282e-01,  7.67593866e-01,\n",
              "        7.67695031e-01,  7.67717756e-01,  7.70166135e-01,  7.72377236e-01,\n",
              "        7.73373227e-01,  7.73438420e-01,  7.74827819e-01,  7.76289527e-01,\n",
              "        7.77100180e-01,  7.78467782e-01,  7.81320324e-01,  7.81617141e-01,\n",
              "        7.82939425e-01,  7.84084133e-01,  7.84117950e-01,  7.84127664e-01,\n",
              "        7.85449718e-01,  7.86063303e-01,  7.87651601e-01,  7.89796323e-01,\n",
              "        7.90021104e-01,  7.90304968e-01,  7.91019038e-01,  7.92551090e-01,\n",
              "        7.92970873e-01,  7.94373387e-01,  7.97443236e-01,  7.97877772e-01,\n",
              "        8.00011915e-01,  8.00715241e-01,  8.02243698e-01,  8.02330211e-01,\n",
              "        8.02709235e-01,  8.03731271e-01,  8.03855525e-01,  8.04766355e-01,\n",
              "        8.05018814e-01,  8.05407844e-01,  8.09402006e-01,  8.10920284e-01,\n",
              "        8.11631713e-01,  8.12328090e-01,  8.13132996e-01,  8.15069733e-01,\n",
              "        8.15115431e-01,  8.15234040e-01,  8.15607978e-01,  8.18454310e-01,\n",
              "        8.19024154e-01,  8.19453501e-01,  8.19839590e-01,  8.20503480e-01,\n",
              "        8.20630560e-01,  8.22207222e-01,  8.22820404e-01,  8.24359288e-01,\n",
              "        8.24513077e-01,  8.24550567e-01,  8.25895342e-01,  8.26417458e-01,\n",
              "        8.26440013e-01,  8.27521903e-01,  8.29358143e-01,  8.30422384e-01,\n",
              "        8.33180023e-01,  8.33820079e-01,  8.35243795e-01,  8.35498454e-01,\n",
              "        8.38106033e-01,  8.38197695e-01,  8.38750833e-01,  8.41042101e-01,\n",
              "        8.43043587e-01,  8.43495877e-01,  8.48679717e-01,  8.49925081e-01,\n",
              "        8.50517976e-01,  8.50579540e-01,  8.50709556e-01,  8.51240087e-01,\n",
              "        8.52625682e-01,  8.52877464e-01,  8.53474474e-01,  8.54090300e-01,\n",
              "        8.55464908e-01,  8.55916915e-01,  8.56617452e-01,  8.58373295e-01,\n",
              "        8.58696207e-01,  8.59309287e-01,  8.59483560e-01,  8.59633467e-01,\n",
              "        8.60169352e-01,  8.60196937e-01,  8.60366364e-01,  8.61565030e-01,\n",
              "        8.61787804e-01,  8.61841014e-01,  8.62665002e-01,  8.62823270e-01,\n",
              "        8.63441399e-01,  8.65102850e-01,  8.65576815e-01,  8.65710730e-01,\n",
              "        8.65929798e-01,  8.68442561e-01,  8.68500368e-01,  8.69820317e-01,\n",
              "        8.69979744e-01,  8.71481326e-01,  8.72803296e-01,  8.73168761e-01,\n",
              "        8.73260568e-01,  8.73894163e-01,  8.74253165e-01,  8.75959841e-01,\n",
              "        8.77146929e-01,  8.77213392e-01,  8.80881165e-01,  8.83168813e-01,\n",
              "        8.84295512e-01,  8.84385455e-01,  8.88475639e-01,  8.90129292e-01,\n",
              "        8.90424894e-01,  8.91045242e-01,  8.92661324e-01,  8.93851737e-01,\n",
              "        8.94677595e-01,  8.95014283e-01,  8.97015928e-01,  8.98293880e-01,\n",
              "        9.00947336e-01,  9.02545424e-01,  9.04534344e-01,  9.05487508e-01,\n",
              "        9.10114125e-01,  9.10916990e-01,  9.13683624e-01,  9.14263844e-01,\n",
              "        9.14657845e-01,  9.17951517e-01,  9.18625434e-01,  9.18778671e-01,\n",
              "        9.19989858e-01,  9.24290592e-01,  9.28759211e-01,  9.29074078e-01,\n",
              "        9.30175807e-01,  9.32462516e-01,  9.35330000e-01,  9.37676438e-01,\n",
              "        9.39775217e-01,  9.40711753e-01,  9.41514875e-01,  9.42714422e-01,\n",
              "        9.43005593e-01,  9.43206822e-01,  9.47334849e-01,  9.47532611e-01,\n",
              "        9.47807854e-01,  9.50205125e-01,  9.52040159e-01,  9.52635938e-01,\n",
              "        9.52993979e-01,  9.54691313e-01,  9.59309390e-01,  9.59644575e-01,\n",
              "        9.61417810e-01,  9.61747234e-01,  9.61761246e-01,  9.63756649e-01,\n",
              "        9.65858639e-01,  9.67586817e-01,  9.70932526e-01,  9.71647989e-01,\n",
              "        9.73054931e-01,  9.76101380e-01,  9.76323528e-01,  9.78564409e-01,\n",
              "        9.79608441e-01,  9.81894456e-01,  9.88142476e-01,  9.88508343e-01,\n",
              "        9.88752704e-01,  9.91115953e-01,  9.92647669e-01,  9.93034630e-01,\n",
              "        9.95394229e-01,  9.97905156e-01,  9.98384439e-01,  1.00182045e+00,\n",
              "        1.00338925e+00,  1.00523372e+00,  1.00584565e+00,  1.00810231e+00,\n",
              "        1.01216813e+00,  1.01249021e+00,  1.01535619e+00,  1.01682642e+00,\n",
              "        1.02276295e+00,  1.02504776e+00,  1.02659486e+00,  1.02842177e+00,\n",
              "        1.03276140e+00,  1.03305024e+00,  1.03367939e+00,  1.03761183e+00,\n",
              "        1.04020014e+00,  1.04586198e+00,  1.04858028e+00,  1.05394243e+00,\n",
              "        1.05764070e+00,  1.06568697e+00,  1.06581146e+00,  1.06713288e+00,\n",
              "        1.07075297e+00,  1.07197430e+00,  1.08444925e+00,  1.09245745e+00,\n",
              "        1.09458307e+00,  1.09643047e+00,  1.09806560e+00,  1.09989219e+00,\n",
              "        1.10026103e+00,  1.10436063e+00,  1.10525574e+00,  1.10836378e+00,\n",
              "        1.11495874e+00,  1.11682533e+00,  1.11691362e+00,  1.12207973e+00,\n",
              "        1.12523539e+00,  1.12542747e+00,  1.12561793e+00,  1.13994711e+00,\n",
              "        1.14244757e+00,  1.15624458e+00,  1.16899812e+00,  1.17972910e+00])"
            ]
          },
          "metadata": {
            "tags": []
          },
          "execution_count": 21
        }
      ]
    },
    {
      "cell_type": "markdown",
      "metadata": {
        "id": "czrUlCtjs_g5",
        "colab_type": "text"
      },
      "source": [
        "3. С помощью критерия Колмогорова проверить гипотезу о принадлежности получившейся выборки к закону P c заданным уровнем значимости. \n"
      ]
    },
    {
      "cell_type": "code",
      "metadata": {
        "id": "o7-zUMB3qaeA",
        "colab_type": "code",
        "colab": {
          "base_uri": "https://localhost:8080/",
          "height": 51
        },
        "outputId": "5ca3f9f0-665a-4a2a-88c3-1d7c20b33c73"
      },
      "source": [
        "import statsmodels as sm\n",
        "import math\n",
        "import statsmodels.distributions\n",
        "gamma = 0.95\n",
        "Kgamma = 1.35\n",
        "x1 = np.linspace(0,1)\n",
        "F0 = uniform.cdf(x1,a,b)\n",
        "ecd = sm.distributions.ECDF(new_vr)\n",
        "Fn = ecd(x1)\n",
        "Dn = max(abs(Fn - F0))\n",
        "print(math.sqrt(n)*Dn, Kgamma)\n",
        "if math.sqrt(n)*Dn < Kgamma:\n",
        "  print (\"Uniform(\",a,\",\",b,\")\")\n",
        "else:\n",
        "  print (\"Not Uniform(\",a,\",\",b,\")\")"
      ],
      "execution_count": null,
      "outputs": [
        {
          "output_type": "stream",
          "text": [
            "1.8024982662959763 1.35\n",
            "Not Uniform( 0 , 1 )\n"
          ],
          "name": "stdout"
        }
      ]
    },
    {
      "cell_type": "markdown",
      "metadata": {
        "id": "EDhGzfTns-Kt",
        "colab_type": "text"
      },
      "source": [
        "4. Разделите выборку на две выборки одинакового объема n/2. Проверьте по критерию Спирмена (асимптотическая версия с нормальным законом) гипотезу независимости этих двух выборок c заданным уровнем значимости. \n"
      ]
    },
    {
      "cell_type": "code",
      "metadata": {
        "id": "p8GvSx8IvUtH",
        "colab_type": "code",
        "colab": {
          "base_uri": "https://localhost:8080/",
          "height": 68
        },
        "outputId": "0a37dcf6-81b3-476d-af3a-23e99c25c0e4"
      },
      "source": [
        "r1 = np.array([0.0]*(n//2))\n",
        "r2 = np.array([0.0]*(n//2))\n",
        "\n",
        "for i in range(0, n):\n",
        "  if i < n//2:\n",
        "    r1[i] = new_r[i]\n",
        "  else:\n",
        "    r2[i-n//2] = new_r[i]\n",
        "\n",
        "r11 = np.copy(r1)\n",
        "r22 = np.copy(r2)\n",
        "rang1 = np.copy(r1)\n",
        "rang2 = np.copy(r2)\n",
        "\n",
        "r1.sort() \n",
        "r2.sort()\n",
        "for i in range(0, n//2):\n",
        "  for j in range(0, n//2):\n",
        "    if r1[i] == rang1[j]:\n",
        "      rang1[j] = i\n",
        "      j = n//2 - 1\n",
        "    if r2[i] == rang2[j]:\n",
        "      rang2[j] = i\n",
        "      j = n//2 - 1\n",
        "\n",
        "z = 1.645\n",
        "mid = (n//2 + 1) /2\n",
        "print(mid)\n",
        "summ = 0\n",
        "for i in range(0, n//2):\n",
        "  summ += (rang1[i] - mid)*(rang2[i] - mid)\n",
        "summ *= 12/(n//2*(n**2//4 - 1))\n",
        "print (summ, \" коэффициент корреляции спирмена\")\n",
        "print(abs(math.sqrt(n//2)*summ),\" <= \", z)\n"
      ],
      "execution_count": null,
      "outputs": [
        {
          "output_type": "stream",
          "text": [
            "250.5\n",
            "-0.008118734278824877  коэффициент корреляции спирмена\n",
            "0.18154041738710158  <=  1.645\n"
          ],
          "name": "stdout"
        }
      ]
    },
    {
      "cell_type": "code",
      "metadata": {
        "id": "6CQ4fx15lIQl",
        "colab_type": "code",
        "colab": {}
      },
      "source": [
        ""
      ],
      "execution_count": null,
      "outputs": []
    },
    {
      "cell_type": "markdown",
      "metadata": {
        "id": "F6_veIVp8Lkc",
        "colab_type": "text"
      },
      "source": [
        "5. Для этих же двух выборок проверьте по критерию Смирнова гипотезу однородности c заданным уровнем значимости.\n",
        "\n"
      ]
    },
    {
      "cell_type": "code",
      "metadata": {
        "id": "ZKvyfE-g8PMj",
        "colab_type": "code",
        "colab": {
          "base_uri": "https://localhost:8080/",
          "height": 469
        },
        "outputId": "30a8ef5c-0c07-421f-fb55-0f4e5e1c10a2"
      },
      "source": [
        "x = np.linspace(-1,2)\n",
        "ecdf1 = sm.distributions.ECDF(r1)\n",
        "y1 = ecdf1(x)\n",
        "ecdf2 = sm.distributions.ECDF(r2)\n",
        "y2 = ecdf2(x)\n",
        "D = max(abs(y1 - y2))\n",
        "print(D)\n",
        "print(math.sqrt(n/4)*D, Kgamma)\n",
        "print(y1)\n",
        "print(y2)\n",
        "plt.step(x, y1, lw=2, label = \"y1\")\n",
        "plt.step(x, y2, lw=2, label = \"y2\")\n",
        "plt.legend()\n",
        "plt.show()"
      ],
      "execution_count": null,
      "outputs": [
        {
          "output_type": "stream",
          "text": [
            "0.061999999999999944\n",
            "0.9803060746521967 1.35\n",
            "[0.    0.    0.    0.    0.    0.    0.    0.    0.    0.    0.    0.\n",
            " 0.    0.    0.006 0.02  0.042 0.076 0.116 0.164 0.214 0.252 0.3   0.356\n",
            " 0.426 0.484 0.534 0.618 0.694 0.762 0.822 0.89  0.928 0.962 0.98  0.996\n",
            " 1.    1.    1.    1.    1.    1.    1.    1.    1.    1.    1.    1.\n",
            " 1.    1.   ]\n",
            "[0.    0.    0.    0.    0.    0.    0.    0.    0.    0.    0.    0.\n",
            " 0.    0.    0.006 0.022 0.048 0.082 0.116 0.164 0.232 0.298 0.328 0.384\n",
            " 0.448 0.516 0.596 0.66  0.726 0.772 0.834 0.892 0.924 0.958 0.976 0.998\n",
            " 1.    1.    1.    1.    1.    1.    1.    1.    1.    1.    1.    1.\n",
            " 1.    1.   ]\n"
          ],
          "name": "stdout"
        },
        {
          "output_type": "display_data",
          "data": {
            "image/png": "[encoded data removed]",
            "text/plain": [
              "<Figure size 432x288 with 1 Axes>"
            ]
          },
          "metadata": {
            "tags": []
          }
        }
      ]
    },
    {
      "cell_type": "markdown",
      "metadata": {
        "id": "iV0M6nswUHPY",
        "colab_type": "text"
      },
      "source": [
        "Лабораторная работа 3. Оценка параметров общей линейной модели. \n",
        "\n",
        "1. Задайте параметры закона. Задайте объем выборки n. Постройте выборку объема n из закона P с заданными параметрами. \n",
        "\n",
        "2.Задайтепараметры θ0, θ1 и θ2.Каждыйэлементвыборки Xk преобразуйте: θ2X2 k+θ1Xk+θ0, k = 1,...,n. Сгенерируйсте выборку объема n из U[−δ,δ] с очень малым δ > 0 и сложите ее с преобразованной выборкой (покоординатно). Обозначим полученную выборку Y. \n",
        "\n",
        "3. Найдите выборочные оценки ˆ θ0, ˆ θ1 и ˆ θ2 для параметров θ0, θ1 и θ2, соответственно, по методу наименьших квадратов и сравните их с настоящими значениями. \n",
        "\n",
        "4. Изобразите в одной системе координат множество точек (Xk,Yk), график y = θ2x2 +θ1x+θ0 и график y = ˆ θ2x2 + ˆ θ1x + ˆ θ0.\n"
      ]
    },
    {
      "cell_type": "code",
      "metadata": {
        "id": "S-b2iDWELvLf",
        "colab_type": "code",
        "colab": {
          "base_uri": "https://localhost:8080/",
          "height": 51
        },
        "outputId": "135d5051-3b16-4b51-9149-20abb61606de"
      },
      "source": [
        "from scipy.stats import uniform\n",
        "import matplotlib.pyplot as plt\n",
        "import numpy as np\n",
        "a = 0  # left border\n",
        "b = 1  # right border\n",
        "n = 10   # объем выборки \n",
        "sigm = 0.02\n",
        "r = np.random.uniform(a,b,n)  # выборка\n",
        "sigmr = np.random.uniform(-sigm,sigm,n)\n",
        "t0 = 0.5\n",
        "t1 = 0.4\n",
        "t2 = -0.7\n",
        "newr = np.copy(r)\n",
        "for i in range (0,n):\n",
        "  newr[i] = newr[i]*newr[i]*t2 + newr[i]*t1 + t0 + sigmr[i]\n",
        "newr  \n"
      ],
      "execution_count": null,
      "outputs": [
        {
          "output_type": "execute_result",
          "data": {
            "text/plain": [
              "array([0.55622442, 0.32770908, 0.20913461, 0.48975077, 0.52080939,\n",
              "       0.54302087, 0.53130821, 0.54017783, 0.50541077, 0.24829384])"
            ]
          },
          "metadata": {
            "tags": []
          },
          "execution_count": 46
        }
      ]
    },
    {
      "cell_type": "code",
      "metadata": {
        "id": "MEbXgXLtsrlx",
        "colab_type": "code",
        "colab": {
          "base_uri": "https://localhost:8080/",
          "height": 51
        },
        "outputId": "068e41cc-7d7c-4fdc-d068-d2a529b737a1"
      },
      "source": [
        "r"
      ],
      "execution_count": null,
      "outputs": [
        {
          "output_type": "execute_result",
          "data": {
            "text/plain": [
              "array([0.45465559, 0.84962311, 0.99690506, 0.59673656, 0.44582724,\n",
              "       0.14262637, 0.53131031, 0.32495863, 0.03691626, 0.93355708])"
            ]
          },
          "metadata": {
            "tags": []
          },
          "execution_count": 51
        }
      ]
    },
    {
      "cell_type": "code",
      "metadata": {
        "id": "jcq3NNLH_I2z",
        "colab_type": "code",
        "colab": {
          "base_uri": "https://localhost:8080/",
          "height": 187
        },
        "outputId": "4f2727b7-21f6-42e2-c604-b4de3561efd6"
      },
      "source": [
        "A = np.array([[0.0]*3]*n)\n",
        "for i in range (0, n):\n",
        "  A[i][0] = r[i]**2\n",
        "  A[i][1] = r[i]\n",
        "  A[i][2] = 1\n",
        "\n",
        "AT = A.transpose()\n",
        "B = AT.dot(A)\n",
        "B1 = np.linalg.inv(B)\n",
        "Tet = B1.dot(AT).dot(newr)\n",
        "\n",
        "\n",
        "A"
      ],
      "execution_count": null,
      "outputs": [
        {
          "output_type": "execute_result",
          "data": {
            "text/plain": [
              "array([[0.2067117 , 0.45465559, 1.        ],\n",
              "       [0.72185943, 0.84962311, 1.        ],\n",
              "       [0.9938197 , 0.99690506, 1.        ],\n",
              "       [0.35609452, 0.59673656, 1.        ],\n",
              "       [0.19876193, 0.44582724, 1.        ],\n",
              "       [0.02034228, 0.14262637, 1.        ],\n",
              "       [0.28229065, 0.53131031, 1.        ],\n",
              "       [0.10559811, 0.32495863, 1.        ],\n",
              "       [0.00136281, 0.03691626, 1.        ],\n",
              "       [0.87152882, 0.93355708, 1.        ]])"
            ]
          },
          "metadata": {
            "tags": []
          },
          "execution_count": 49
        }
      ]
    },
    {
      "cell_type": "code",
      "metadata": {
        "id": "Ewnhzym0sSKb",
        "colab_type": "code",
        "colab": {
          "base_uri": "https://localhost:8080/",
          "height": 34
        },
        "outputId": "b2778eb2-6edb-4a4e-8a95-e09bef6f6c34"
      },
      "source": [
        "Tet"
      ],
      "execution_count": null,
      "outputs": [
        {
          "output_type": "execute_result",
          "data": {
            "text/plain": [
              "array([-0.73048642,  0.43489858,  0.49066113])"
            ]
          },
          "metadata": {
            "tags": []
          },
          "execution_count": 50
        }
      ]
    },
    {
      "cell_type": "code",
      "metadata": {
        "id": "U56tSviiA3wu",
        "colab_type": "code",
        "colab": {
          "base_uri": "https://localhost:8080/",
          "height": 265
        },
        "outputId": "f254d7b8-99b8-44f6-b27d-2fb2c3c78581"
      },
      "source": [
        "x = np.linspace(0,1,5000)\n",
        "plt.plot(x, t2*x**2 + t1*x + t0, lw=1, color= \"b\", label = \"teta\")\n",
        "plt.plot(x, Tet[0]*x**2 + Tet[1]*x + Tet[2], lw=1, color= \"r\", label = \"Teta\")\n",
        "plt.scatter(r,newr, lw = 1,color = \"y\")\n",
        "plt.legend()\n",
        "plt.show()\n",
        "\n"
      ],
      "execution_count": null,
      "outputs": [
        {
          "output_type": "display_data",
          "data": {
            "image/png": "[encoded data removed]",
            "text/plain": [
              "<Figure size 432x288 with 1 Axes>"
            ]
          },
          "metadata": {
            "tags": []
          }
        }
      ]
    }
  ]
}